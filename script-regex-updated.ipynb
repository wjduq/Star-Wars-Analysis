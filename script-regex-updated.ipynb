{
 "cells": [
  {
   "cell_type": "code",
   "execution_count": 5,
   "metadata": {},
   "outputs": [],
   "source": [
    "import re\n",
    "newHopePattern = r\"(\\b[A-Z ']+\\b)\\n[^\\n]+[A-Z(]\"\n",
    "newHopeScript = open('Star-Wars-A-New-Hope.txt', 'r')\n",
    "newHopeMatches = re.findall(newHopePattern, newHopeScript.read())\n",
    "\n",
    "empireStrikesBackPattern = r\"(\\b[A-Z ']+\\b)\\n[^\\n]+[A-Z(]\"\n",
    "empireStrikesBackScript = open('Star-Wars-The-Empire-Strikes-Back.txt','r')\n",
    "empireStrikesBackMatches = re.findall(empireStrikesBackPattern, empireStrikesBackScript.read())\n",
    "\n",
    "returnOfTheJediPattern = r\"\\n\\n(\\b[A-Z ']{3,}\\b)\\n\"\n",
    "returnOfTheJediScript = open('Star-Wars-Return-of-the-Jedi.txt','r')\n",
    "returnOfTheJediMatches = re.findall(returnOfTheJediPattern, returnOfTheJediScript.read())"
   ]
  },
  {
   "cell_type": "code",
   "execution_count": 12,
   "metadata": {},
   "outputs": [],
   "source": [
    "def createDictionary(matches):\n",
    "    dic = {}\n",
    "    for item in matches:\n",
    "        if item in dic:\n",
    "            dic[item] += 1\n",
    "        else:\n",
    "            dic[item] = 1\n",
    "    return dic\n",
    "\n",
    "newHopeDic = createDictionary(newHopeMatches)\n",
    "empireStrikesBackDic = createDictionary(empireStrikesBackMatches)\n",
    "returnOfTheJediDic = createDictionary(returnOfTheJediMatches[:-1])\n",
    "\n",
    "for item in empireStrikesBackDic:\n",
    "    if item in newHopeMatches:\n",
    "        newHopeDic[item] += empireStrikesBackDic[item]\n",
    "    else:\n",
    "        newHopeDic[item] = empireStrikesBackDic[item]\n",
    "\n",
    "for item in returnOfTheJediDic:\n",
    "    if item in newHopeMatches:\n",
    "        newHopeDic[item] += returnOfTheJediDic[item]\n",
    "    else:\n",
    "        newHopeDic[item] = returnOfTheJediDic[item]"
   ]
  },
  {
   "cell_type": "code",
   "execution_count": 21,
   "metadata": {},
   "outputs": [],
   "source": [
    "completeDic = dict(sorted(newHopeDic.items(), key=lambda x: x[1],reverse=True))"
   ]
  }
 ],
 "metadata": {
  "interpreter": {
   "hash": "40d3a090f54c6569ab1632332b64b2c03c39dcf918b08424e98f38b5ae0af88f"
  },
  "kernelspec": {
   "display_name": "Python 3.7.6 64-bit ('base': conda)",
   "name": "python3"
  },
  "language_info": {
   "codemirror_mode": {
    "name": "ipython",
    "version": 3
   },
   "file_extension": ".py",
   "mimetype": "text/x-python",
   "name": "python",
   "nbconvert_exporter": "python",
   "pygments_lexer": "ipython3",
   "version": "3.7.6"
  }
 },
 "nbformat": 4,
 "nbformat_minor": 4
}
